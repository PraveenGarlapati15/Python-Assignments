{
 "cells": [
  {
   "cell_type": "code",
   "execution_count": 18,
   "metadata": {},
   "outputs": [
    {
     "name": "stdout",
     "output_type": "stream",
     "text": [
      "20\n"
     ]
    },
    {
     "data": {
      "text/plain": [
       "1"
      ]
     },
     "execution_count": 18,
     "metadata": {},
     "output_type": "execute_result"
    }
   ],
   "source": [
    "def myreduce(Fun,lst):\n",
    "    output=lst[0]\n",
    "    for i in lst[1:]:\n",
    "        output=Fun(output,i)\n",
    "    return output\n",
    "l= [2,3,4,5,6]\n",
    "l2=[4,5,6,5,3]\n",
    "\n",
    "print(myreduce(lambda x,y:x+y, l))\n",
    "\n",
    "myreduce(lambda x,y:x%y, l2)   "
   ]
  },
  {
   "cell_type": "code",
   "execution_count": 27,
   "metadata": {},
   "outputs": [
    {
     "data": {
      "text/plain": [
       "[2, 4, 6, 8, 10]"
      ]
     },
     "execution_count": 27,
     "metadata": {},
     "output_type": "execute_result"
    }
   ],
   "source": [
    "def myfilter(fun,lst):\n",
    "    output=[]\n",
    "    for i in lst:\n",
    "        if fun(i):\n",
    "            output.append(i)\n",
    "    return output\n",
    "\n",
    "ls = [1 , 2 , 3 ,4, 5, 6 , 7 , 8 , 9 , 10]\n",
    "list(myfilter(lambda x: x%2 == 0,ls))\n"
   ]
  },
  {
   "cell_type": "code",
   "execution_count": null,
   "metadata": {},
   "outputs": [],
   "source": [
    "def myreduce(event , list):\n",
    "    finalresult=list[0]\n",
    "    for i in list[1:]:\n",
    "        finalresult = event(finalresult , i)    \n",
    "    return finalresult\n",
    "        \n",
    "l = [5 , 0 , 9]\n",
    "myreduce(lambda x,y: x+y, l)"
   ]
  }
 ],
 "metadata": {
  "kernelspec": {
   "display_name": "Python 3",
   "language": "python",
   "name": "python3"
  },
  "language_info": {
   "codemirror_mode": {
    "name": "ipython",
    "version": 3
   },
   "file_extension": ".py",
   "mimetype": "text/x-python",
   "name": "python",
   "nbconvert_exporter": "python",
   "pygments_lexer": "ipython3",
   "version": "3.7.6"
  }
 },
 "nbformat": 4,
 "nbformat_minor": 4
}
