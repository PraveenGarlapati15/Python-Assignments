{
 "cells": [
  {
   "cell_type": "code",
   "execution_count": 3,
   "metadata": {},
   "outputs": [
    {
     "name": "stdout",
     "output_type": "stream",
     "text": [
      "Issue is:  division by zero\n"
     ]
    }
   ],
   "source": [
    "def Div(x,y):\n",
    "    try:\n",
    "        return x/y\n",
    "    except Exception as e:\n",
    "        print('Issue is: ',e)\n",
    "\n",
    "Div(5,0)"
   ]
  },
  {
   "cell_type": "code",
   "execution_count": 19,
   "metadata": {},
   "outputs": [
    {
     "name": "stdout",
     "output_type": "stream",
     "text": [
      "Americans play baseball.\n",
      "Americans play cricket.\n",
      "Americans watch baseball.\n",
      "Americans watch cricket.\n",
      "indians play baseball.\n",
      "indians play cricket.\n",
      "indians watch baseball.\n",
      "indians watch cricket.\n"
     ]
    }
   ],
   "source": [
    "subjects =[\"Americans\",\"indians\"]\n",
    "verb= [\"play\",\"watch\"]\n",
    "objects=[\"baseball.\",\"cricket.\"]\n",
    "for i in subjects:\n",
    "    for j in verb:\n",
    "        for k in objects:\n",
    "            print(i,j,k)"
   ]
  },
  {
   "cell_type": "code",
   "execution_count": null,
   "metadata": {},
   "outputs": [],
   "source": []
  }
 ],
 "metadata": {
  "kernelspec": {
   "display_name": "Python 3",
   "language": "python",
   "name": "python3"
  },
  "language_info": {
   "codemirror_mode": {
    "name": "ipython",
    "version": 3
   },
   "file_extension": ".py",
   "mimetype": "text/x-python",
   "name": "python",
   "nbconvert_exporter": "python",
   "pygments_lexer": "ipython3",
   "version": "3.7.6"
  }
 },
 "nbformat": 4,
 "nbformat_minor": 4
}
